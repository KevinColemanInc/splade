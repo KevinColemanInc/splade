{
 "cells": [
  {
   "cell_type": "markdown",
   "id": "expired-priority",
   "metadata": {},
   "source": [
    "# SPLADE: Sparse Lexical and Expansion Model for First Stage Ranking"
   ]
  },
  {
   "cell_type": "markdown",
   "id": "becoming-television",
   "metadata": {},
   "source": [
    "This notebook gives a minimal example usage of SPLADE.\n",
    "\n",
    "* In this repo, we provide weights for 2 models (in the `weights` folder)\n",
    "* See [Naver Labs Europe website](https://europe.naverlabs.com/research/machine-learning-and-optimization/splade-models/) for more up-to-date models under various settings\n",
    "* We also provide two new models via Hugging Face (https://huggingface.co/naver)\n",
    "\n",
    "| model | MRR@10 (MS MARCO dev) | recall@1000 (MS MARCO dev) | expected FLOPS | ~ avg q length | ~ avg d length | \n",
    "| --- | --- | --- | --- | --- | --- |\n",
    "| `splade_max` (**v2**) | 34.0 | 96.5 | 1.32 | 18 | 92 |\n",
    "| `distilsplade_max` (**v2**) | 36.8 | 97.9 | 3.82 | 25 | 232 |\n",
    "| `naver/splade-cocondenser-selfdistil` (**v2bis**, [HF](https://huggingface.co/naver/splade-cocondenser-selfdistil))| 37.6 | 98.4 | 2.32 | 56 | 134 |\n",
    "| `naver/splade-cocondenser-ensembledistil` (**v2bis**, [HF](https://huggingface.co/naver/splade-cocondenser-ensembledistil)) | 38.3 | 98.3  | 1.85 | 44 | 120 |"
   ]
  },
  {
   "cell_type": "code",
   "execution_count": 1,
   "id": "tight-milton",
   "metadata": {},
   "outputs": [],
   "source": [
    "import torch\n",
    "from transformers import AutoModelForMaskedLM, AutoTokenizer\n",
    "from splade.models.transformer_rep import Splade"
   ]
  },
  {
   "cell_type": "code",
   "execution_count": 36,
   "id": "mighty-invention",
   "metadata": {},
   "outputs": [],
   "source": [
    "# set the dir for trained weights\n",
    "\n",
    "##### v2\n",
    "# model_type_or_dir = \"weights/splade_max\"\n",
    "# model_type_or_dir = \"weights/distilsplade_max\"\n",
    "\n",
    "### v2bis, directly download from Hugging Face\n",
    "# model_type_or_dir = \"naver/splade-cocondenser-selfdistil\"\n",
    "model_type_or_dir = \"naver/efficient-splade-VI-BT-large-doc\""
   ]
  },
  {
   "cell_type": "code",
   "execution_count": 37,
   "id": "centered-watershed",
   "metadata": {},
   "outputs": [
    {
     "data": {
      "application/json": {
       "ascii": false,
       "bar_format": null,
       "colour": null,
       "elapsed": 0.018309831619262695,
       "initial": 0,
       "n": 0,
       "ncols": null,
       "nrows": 24,
       "postfix": null,
       "prefix": "Downloading",
       "rate": null,
       "total": 620,
       "unit": "B",
       "unit_divisor": 1024,
       "unit_scale": true
      },
      "application/vnd.jupyter.widget-view+json": {
       "model_id": "b3d7d40eabca4fbf89db1a015a6c38d0",
       "version_major": 2,
       "version_minor": 0
      },
      "text/plain": [
       "Downloading:   0%|          | 0.00/620 [00:00<?, ?B/s]"
      ]
     },
     "metadata": {},
     "output_type": "display_data"
    },
    {
     "data": {
      "application/json": {
       "ascii": false,
       "bar_format": null,
       "colour": null,
       "elapsed": 0.03072071075439453,
       "initial": 0,
       "n": 0,
       "ncols": null,
       "nrows": 24,
       "postfix": null,
       "prefix": "Downloading",
       "rate": null,
       "total": 267982639,
       "unit": "B",
       "unit_divisor": 1024,
       "unit_scale": true
      },
      "application/vnd.jupyter.widget-view+json": {
       "model_id": "12f0eb380675405d80ac3a89e837c9b2",
       "version_major": 2,
       "version_minor": 0
      },
      "text/plain": [
       "Downloading:   0%|          | 0.00/256M [00:00<?, ?B/s]"
      ]
     },
     "metadata": {},
     "output_type": "display_data"
    },
    {
     "data": {
      "application/json": {
       "ascii": false,
       "bar_format": null,
       "colour": null,
       "elapsed": 0.011509895324707031,
       "initial": 0,
       "n": 0,
       "ncols": null,
       "nrows": 24,
       "postfix": null,
       "prefix": "Downloading",
       "rate": null,
       "total": 449,
       "unit": "B",
       "unit_divisor": 1024,
       "unit_scale": true
      },
      "application/vnd.jupyter.widget-view+json": {
       "model_id": "fd65eb058ee2403ca95e61f2d48153c0",
       "version_major": 2,
       "version_minor": 0
      },
      "text/plain": [
       "Downloading:   0%|          | 0.00/449 [00:00<?, ?B/s]"
      ]
     },
     "metadata": {},
     "output_type": "display_data"
    },
    {
     "data": {
      "application/json": {
       "ascii": false,
       "bar_format": null,
       "colour": null,
       "elapsed": 0.03707075119018555,
       "initial": 0,
       "n": 0,
       "ncols": null,
       "nrows": 24,
       "postfix": null,
       "prefix": "Downloading",
       "rate": null,
       "total": 231508,
       "unit": "B",
       "unit_divisor": 1024,
       "unit_scale": true
      },
      "application/vnd.jupyter.widget-view+json": {
       "model_id": "9e1c8796c8e64b43a76ea8f3c1f33c70",
       "version_major": 2,
       "version_minor": 0
      },
      "text/plain": [
       "Downloading:   0%|          | 0.00/226k [00:00<?, ?B/s]"
      ]
     },
     "metadata": {},
     "output_type": "display_data"
    },
    {
     "data": {
      "application/json": {
       "ascii": false,
       "bar_format": null,
       "colour": null,
       "elapsed": 0.012162208557128906,
       "initial": 0,
       "n": 0,
       "ncols": null,
       "nrows": 24,
       "postfix": null,
       "prefix": "Downloading",
       "rate": null,
       "total": 466081,
       "unit": "B",
       "unit_divisor": 1024,
       "unit_scale": true
      },
      "application/vnd.jupyter.widget-view+json": {
       "model_id": "0bd91a909ff746ac9f9a0ddabf8911fd",
       "version_major": 2,
       "version_minor": 0
      },
      "text/plain": [
       "Downloading:   0%|          | 0.00/455k [00:00<?, ?B/s]"
      ]
     },
     "metadata": {},
     "output_type": "display_data"
    },
    {
     "data": {
      "application/json": {
       "ascii": false,
       "bar_format": null,
       "colour": null,
       "elapsed": 0.017183303833007812,
       "initial": 0,
       "n": 0,
       "ncols": null,
       "nrows": 24,
       "postfix": null,
       "prefix": "Downloading",
       "rate": null,
       "total": 112,
       "unit": "B",
       "unit_divisor": 1024,
       "unit_scale": true
      },
      "application/vnd.jupyter.widget-view+json": {
       "model_id": "ebe102f2cb45444e9c96c360baf4880b",
       "version_major": 2,
       "version_minor": 0
      },
      "text/plain": [
       "Downloading:   0%|          | 0.00/112 [00:00<?, ?B/s]"
      ]
     },
     "metadata": {},
     "output_type": "display_data"
    },
    {
     "name": "stdout",
     "output_type": "stream",
     "text": [
      "vocabulary 30522\n"
     ]
    }
   ],
   "source": [
    "# loading model and tokenizer\n",
    "\n",
    "model = Splade(model_type_or_dir, agg=\"max\")\n",
    "model.eval()\n",
    "tokenizer = AutoTokenizer.from_pretrained(model_type_or_dir)\n",
    "reverse_voc = {v: k for k, v in tokenizer.vocab.items()}\n",
    "print('vocabulary', len(reverse_voc))"
   ]
  },
  {
   "cell_type": "code",
   "execution_count": 47,
   "id": "forward-movement",
   "metadata": {},
   "outputs": [],
   "source": [
    "# example document from MS MARCO passage collection (doc_id = 8003157)\n",
    "from itertools import islice\n",
    "\n",
    "queries = (\"laundry\", \"burger king\", \"highland coffee\", \"5 guys\", \"five guys\", \"mcdonalds\", \"the pizza company\", \"family-friendly fast food breakfast\", \"tacos\", \"chicken tikka\", \"pad thai\", \"indian\", \"momos\", \"coke\")"
   ]
  },
  {
   "cell_type": "code",
   "execution_count": 48,
   "id": "rolled-canon",
   "metadata": {},
   "outputs": [
    {
     "name": "stderr",
     "output_type": "stream",
     "text": [
      "100%|██████████████████████████████████████| 14/14 [00:00<00:00, 32.88it/s]"
     ]
    },
    {
     "name": "stdout",
     "output_type": "stream",
     "text": [
      "laundry (keywords: 9)\n",
      " -  washing \t 1.48\n",
      " -  wash \t 1.33\n",
      " -  clothes \t 1.26\n",
      " -  . \t 0.86\n",
      " -  washed \t 0.61\n",
      " -  textile \t 0.57\n",
      " -  sewing \t 0.57\n",
      " -  fabric \t 0.51\n",
      " -  clothing \t 0.18\n",
      "\n",
      "\n",
      "burger king (keywords: 51)\n",
      " -  hamburger \t 1.67\n",
      " -  bk \t 1.35\n",
      " -  kings \t 1.3\n",
      " -  restaurant \t 1.16\n",
      " -  restaurants \t 0.96\n",
      " -  chain \t 0.93\n",
      " -  mcdonald \t 0.91\n",
      " -  brands \t 0.81\n",
      " -  food \t 0.79\n",
      " -  foods \t 0.75\n",
      "\n",
      "\n",
      "highland coffee (keywords: 19)\n",
      " -  highlands \t 1.66\n",
      " -  cafe \t 1.41\n",
      " -  starbucks \t 0.94\n",
      " -  caf \t 0.92\n",
      " -  tea \t 0.48\n",
      " -  press \t 0.4\n",
      " -  cups \t 0.4\n",
      " -  cup \t 0.39\n",
      " -  drink \t 0.37\n",
      " -  brew \t 0.35\n",
      "\n",
      "\n",
      "5 guys (keywords: 86)\n",
      " -  five \t 1.4\n",
      " -  many \t 1.05\n",
      " -  boys \t 0.98\n",
      " -  dude \t 0.81\n",
      " -  men \t 0.71\n",
      " -  fifa \t 0.68\n",
      " -  buddy \t 0.65\n",
      " -  5000 \t 0.62\n",
      " -  golf \t 0.6\n",
      " -  buddies \t 0.51\n",
      "\n",
      "\n",
      "five guys (keywords: 81)\n",
      " -  5 \t 1.35\n",
      " -  many \t 1.16\n",
      " -  boys \t 1.07\n",
      " -  dude \t 0.73\n",
      " -  men \t 0.68\n",
      " -  four \t 0.63\n",
      " -  golf \t 0.59\n",
      " -  six \t 0.58\n",
      " -  military \t 0.56\n",
      " -  buddy \t 0.55\n",
      "\n",
      "\n",
      "mcdonalds (keywords: 28)\n",
      " -  restaurant \t 0.93\n",
      " -  foods \t 0.81\n",
      " -  restaurants \t 0.8\n",
      " -  food \t 0.73\n",
      " -  burger \t 0.7\n",
      " -  chain \t 0.66\n",
      " -  franchise \t 0.55\n",
      " -  monde \t 0.54\n",
      " -  company \t 0.53\n",
      " -  companies \t 0.52\n",
      "\n",
      "\n",
      "the pizza company (keywords: 49)\n",
      " -  companies \t 1.25\n",
      " -  ##zz \t 0.89\n",
      " -  domino \t 0.82\n",
      " -  manufacturers \t 0.76\n",
      " -  restaurant \t 0.72\n",
      " -  who \t 0.7\n",
      " -  brands \t 0.6\n",
      " -  ##oni \t 0.6\n",
      " -  industry \t 0.6\n",
      " -  manufacturer \t 0.53\n",
      "\n",
      "\n",
      "family-friendly fast food breakfast (keywords: 80)\n",
      " -  foods \t 0.89\n",
      " -  meal \t 0.85\n",
      " -  families \t 0.75\n",
      " -  mcdonald \t 0.72\n",
      " -  lunch \t 0.69\n",
      " -  menu \t 0.58\n",
      " -  restaurant \t 0.56\n",
      " -  eat \t 0.55\n",
      " -  restaurants \t 0.52\n",
      " -  ##cuit \t 0.47\n",
      "\n",
      "\n",
      "tacos (keywords: 21)\n",
      " -  ##cos \t 1.67\n",
      " -  mexican \t 0.77\n",
      " -  restaurant \t 0.59\n",
      " -  spanish \t 0.51\n",
      " -  translation \t 0.42\n",
      " -  restaurants \t 0.31\n",
      " -  sauce \t 0.24\n",
      " -  define \t 0.23\n",
      " -  mexico \t 0.2\n",
      " -  synonym \t 0.19\n",
      "\n",
      "\n",
      "chicken tikka (keywords: 21)\n",
      " -  ##kka \t 2.05\n",
      " -  chickens \t 1.81\n",
      " -  poultry \t 1.23\n",
      " -  dish \t 0.92\n",
      " -  food \t 0.8\n",
      " -  foods \t 0.75\n",
      " -  dishes \t 0.71\n",
      " -  restaurant \t 0.67\n",
      " -  meat \t 0.64\n",
      " -  ##kki \t 0.53\n",
      "\n",
      "\n",
      "pad thai (keywords: 47)\n",
      " -  thailand \t 2.03\n",
      " -  bangkok \t 1.16\n",
      " -  pads \t 1.16\n",
      " -  dance \t 0.77\n",
      " -  viet \t 0.59\n",
      " -  spoken \t 0.56\n",
      " -  currency \t 0.52\n",
      " -  hotel \t 0.46\n",
      " -  malay \t 0.45\n",
      " -  language \t 0.43\n",
      "\n",
      "\n",
      "indian (keywords: 4)\n",
      " -  indians \t 2.0\n",
      " -  . \t 0.62\n",
      " -  hindu \t 0.36\n",
      " -  hindi \t 0.32\n",
      "\n",
      "\n",
      "momos (keywords: 27)\n",
      " -  ##os \t 1.7\n",
      " -  mother \t 1.56\n",
      " -  greek \t 0.9\n",
      " -  mothers \t 0.9\n",
      " -  parent \t 0.82\n",
      " -  translation \t 0.65\n",
      " -  prefix \t 0.64\n",
      " -  ##o \t 0.63\n",
      " -  dad \t 0.63\n",
      " -  maternal \t 0.58\n",
      "\n",
      "\n",
      "coke (keywords: 8)\n",
      " -  coca \t 1.2\n",
      " -  cola \t 0.95\n",
      " -  soda \t 0.69\n",
      " -  champagne \t 0.43\n",
      " -  lime \t 0.42\n",
      " -  pepsi \t 0.34\n",
      " -  . \t 0.13\n",
      " -  beer \t 0.07\n",
      "\n",
      "\n"
     ]
    },
    {
     "name": "stderr",
     "output_type": "stream",
     "text": [
      "\n"
     ]
    }
   ],
   "source": [
    "from tqdm import tqdm\n",
    "\n",
    "# now compute the document representation\n",
    "res = []\n",
    "for doc in tqdm(queries,ncols=75):\n",
    "    with torch.no_grad():\n",
    "        doc_rep = model(d_kwargs=tokenizer(doc, return_tensors=\"pt\"))[\"d_rep\"].squeeze()  # (sparse) doc rep in voc space, shape (30522,)\n",
    "\n",
    "    # get the number of non-zero dimensions in the rep:\n",
    "    col = torch.nonzero(doc_rep).squeeze().cpu().tolist()\n",
    "    \n",
    "    # now let's inspect the bow representation:\n",
    "    weights = doc_rep[col].cpu().tolist()\n",
    "    d = {k: v for k, v in zip(col, weights)}\n",
    "    sorted_d = {k: v for k, v in sorted(d.items(), key=lambda item: item[1], reverse=True)}\n",
    "    bow_rep = []\n",
    "    for k, v in sorted_d.items():\n",
    "        if not(reverse_voc[k] in doc):\n",
    "            bow_rep.append((reverse_voc[k], round(v, 2)))\n",
    "    res.append((doc, bow_rep))\n",
    "for doc, kw in res:\n",
    "    print(f\"{doc} (keywords: {len(kw)})\")\n",
    "    for kw_ in kw[:10]:\n",
    "        print(' - ', kw_[0], '\\t', kw_[1])\n",
    "    print(\"\\n\")"
   ]
  },
  {
   "cell_type": "code",
   "execution_count": null,
   "id": "2350bb44",
   "metadata": {},
   "outputs": [],
   "source": []
  }
 ],
 "metadata": {
  "kernelspec": {
   "display_name": "Python 3 (splade_conda)",
   "language": "python",
   "name": "python3"
  },
  "language_info": {
   "codemirror_mode": {
    "name": "ipython",
    "version": 3
   },
   "file_extension": ".py",
   "mimetype": "text/x-python",
   "name": "python",
   "nbconvert_exporter": "python",
   "pygments_lexer": "ipython3",
   "version": "3.9.16"
  }
 },
 "nbformat": 4,
 "nbformat_minor": 5
}
